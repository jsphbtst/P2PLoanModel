{
 "cells": [
  {
   "cell_type": "code",
   "execution_count": 1,
   "metadata": {
    "collapsed": false
   },
   "outputs": [
    {
     "name": "stderr",
     "output_type": "stream",
     "text": [
      "/home/user/anaconda2/lib/python2.7/site-packages/matplotlib/font_manager.py:273: UserWarning: Matplotlib is building the font cache using fc-list. This may take a moment.\n",
      "  warnings.warn('Matplotlib is building the font cache using fc-list. This may take a moment.')\n"
     ]
    }
   ],
   "source": [
    "import pandas as pd\n",
    "import numpy as np\n",
    "import statsmodels.api as sm\n",
    "import scipy.stats as stats\n",
    "from scipy.interpolate import interp1d\n",
    "\n",
    "import matplotlib.pyplot as plt\n",
    "%matplotlib inline\n",
    "\n",
    "from sklearn import ensemble, cross_validation, preprocessing"
   ]
  },
  {
   "cell_type": "code",
   "execution_count": 2,
   "metadata": {
    "collapsed": true
   },
   "outputs": [],
   "source": [
    "pd.set_option('display.float_format', lambda x: '%.3f' % x)"
   ]
  },
  {
   "cell_type": "markdown",
   "metadata": {},
   "source": [
    "1 means the loan was paid.\n",
    "0 means the loan was defaulted."
   ]
  },
  {
   "cell_type": "code",
   "execution_count": 3,
   "metadata": {
    "collapsed": false
   },
   "outputs": [
    {
     "data": {
      "text/html": [
       "<div>\n",
       "<table border=\"1\" class=\"dataframe\">\n",
       "  <thead>\n",
       "    <tr style=\"text-align: right;\">\n",
       "      <th></th>\n",
       "      <th>Loan Amount</th>\n",
       "      <th>Employment Length</th>\n",
       "      <th>Annual Income</th>\n",
       "      <th>Debt-To-Income Ratio</th>\n",
       "      <th>Decision</th>\n",
       "    </tr>\n",
       "  </thead>\n",
       "  <tbody>\n",
       "    <tr>\n",
       "      <th>count</th>\n",
       "      <td>6402875.000</td>\n",
       "      <td>6402875.000</td>\n",
       "      <td>6402875.000</td>\n",
       "      <td>6402875.000</td>\n",
       "      <td>6402875.000</td>\n",
       "    </tr>\n",
       "    <tr>\n",
       "      <th>mean</th>\n",
       "      <td>13049.344</td>\n",
       "      <td>2.252</td>\n",
       "      <td>331223.309</td>\n",
       "      <td>4.457</td>\n",
       "      <td>0.150</td>\n",
       "    </tr>\n",
       "    <tr>\n",
       "      <th>std</th>\n",
       "      <td>10256.161</td>\n",
       "      <td>2.878</td>\n",
       "      <td>15805890.497</td>\n",
       "      <td>206.817</td>\n",
       "      <td>0.357</td>\n",
       "    </tr>\n",
       "    <tr>\n",
       "      <th>min</th>\n",
       "      <td>0.000</td>\n",
       "      <td>0.000</td>\n",
       "      <td>0.000</td>\n",
       "      <td>0.000</td>\n",
       "      <td>0.000</td>\n",
       "    </tr>\n",
       "    <tr>\n",
       "      <th>25%</th>\n",
       "      <td>5000.000</td>\n",
       "      <td>1.000</td>\n",
       "      <td>7896.000</td>\n",
       "      <td>0.112</td>\n",
       "      <td>0.000</td>\n",
       "    </tr>\n",
       "    <tr>\n",
       "      <th>50%</th>\n",
       "      <td>10000.000</td>\n",
       "      <td>1.000</td>\n",
       "      <td>28884.000</td>\n",
       "      <td>0.238</td>\n",
       "      <td>0.000</td>\n",
       "    </tr>\n",
       "    <tr>\n",
       "      <th>75%</th>\n",
       "      <td>20000.000</td>\n",
       "      <td>1.000</td>\n",
       "      <td>68000.000</td>\n",
       "      <td>0.466</td>\n",
       "      <td>0.000</td>\n",
       "    </tr>\n",
       "    <tr>\n",
       "      <th>max</th>\n",
       "      <td>1400000.000</td>\n",
       "      <td>62.917</td>\n",
       "      <td>13226400000.000</td>\n",
       "      <td>500000.315</td>\n",
       "      <td>1.000</td>\n",
       "    </tr>\n",
       "  </tbody>\n",
       "</table>\n",
       "</div>"
      ],
      "text/plain": [
       "       Loan Amount  Employment Length   Annual Income  Debt-To-Income Ratio  \\\n",
       "count  6402875.000        6402875.000     6402875.000           6402875.000   \n",
       "mean     13049.344              2.252      331223.309                 4.457   \n",
       "std      10256.161              2.878    15805890.497               206.817   \n",
       "min          0.000              0.000           0.000                 0.000   \n",
       "25%       5000.000              1.000        7896.000                 0.112   \n",
       "50%      10000.000              1.000       28884.000                 0.238   \n",
       "75%      20000.000              1.000       68000.000                 0.466   \n",
       "max    1400000.000             62.917 13226400000.000            500000.315   \n",
       "\n",
       "         Decision  \n",
       "count 6402875.000  \n",
       "mean        0.150  \n",
       "std         0.357  \n",
       "min         0.000  \n",
       "25%         0.000  \n",
       "50%         0.000  \n",
       "75%         0.000  \n",
       "max         1.000  "
      ]
     },
     "execution_count": 3,
     "metadata": {},
     "output_type": "execute_result"
    }
   ],
   "source": [
    "df1 = pd.read_csv('Lending Club Without 2007-2009.csv')\n",
    "df2 = pd.read_csv('Prosper Loan Without 2007-2009.csv')\n",
    "\n",
    "frame = [df1,df2]\n",
    "df = pd.concat(frame)\n",
    "df.columns = ['Filler', 'Loan Amount', 'Employment Length', 'Annual Income', 'Debt-To-Income Ratio',\n",
    "             'Decision']\n",
    "df = df.drop(['Filler'],1)\n",
    "df.describe()"
   ]
  },
  {
   "cell_type": "code",
   "execution_count": 4,
   "metadata": {
    "collapsed": false
   },
   "outputs": [
    {
     "name": "stdout",
     "output_type": "stream",
     "text": [
      "Loan Amount             False\n",
      "Employment Length       False\n",
      "Annual Income           False\n",
      "Debt-To-Income Ratio    False\n",
      "Decision                False\n",
      "dtype: bool\n",
      "\n",
      "Loan Amount             False\n",
      "Employment Length       False\n",
      "Annual Income           False\n",
      "Debt-To-Income Ratio    False\n",
      "Decision                False\n",
      "dtype: bool\n"
     ]
    }
   ],
   "source": [
    "print np.isnan(df).any()\n",
    "print ''\n",
    "print np.isinf(df).any()"
   ]
  },
  {
   "cell_type": "code",
   "execution_count": 5,
   "metadata": {
    "collapsed": false
   },
   "outputs": [
    {
     "name": "stdout",
     "output_type": "stream",
     "text": [
      "Loan Amount             8\n",
      "Employment Length       8\n",
      "Annual Income           8\n",
      "Debt-To-Income Ratio    8\n",
      "Decision                8\n",
      "dtype: int64\n",
      "\n"
     ]
    }
   ],
   "source": [
    "print df[df['Annual Income'] < 1.].count()\n",
    "print ''\n",
    "\n",
    "df = df[df['Annual Income'] > 1.]"
   ]
  },
  {
   "cell_type": "code",
   "execution_count": 6,
   "metadata": {
    "collapsed": false
   },
   "outputs": [
    {
     "data": {
      "text/html": [
       "<div>\n",
       "<table border=\"1\" class=\"dataframe\">\n",
       "  <thead>\n",
       "    <tr style=\"text-align: right;\">\n",
       "      <th></th>\n",
       "      <th>Loan Amount</th>\n",
       "      <th>Employment Length</th>\n",
       "      <th>Annual Income</th>\n",
       "      <th>Debt-To-Income Ratio</th>\n",
       "      <th>Decision</th>\n",
       "    </tr>\n",
       "  </thead>\n",
       "  <tbody>\n",
       "    <tr>\n",
       "      <th>count</th>\n",
       "      <td>6402866.000</td>\n",
       "      <td>6402866.000</td>\n",
       "      <td>6402866.000</td>\n",
       "      <td>6402866.000</td>\n",
       "      <td>6402866.000</td>\n",
       "    </tr>\n",
       "    <tr>\n",
       "      <th>mean</th>\n",
       "      <td>13049.354</td>\n",
       "      <td>2.252</td>\n",
       "      <td>329818.153</td>\n",
       "      <td>4.374</td>\n",
       "      <td>0.150</td>\n",
       "    </tr>\n",
       "    <tr>\n",
       "      <th>std</th>\n",
       "      <td>10256.161</td>\n",
       "      <td>2.878</td>\n",
       "      <td>15400547.126</td>\n",
       "      <td>60.749</td>\n",
       "      <td>0.357</td>\n",
       "    </tr>\n",
       "    <tr>\n",
       "      <th>min</th>\n",
       "      <td>1000.000</td>\n",
       "      <td>0.000</td>\n",
       "      <td>1.200</td>\n",
       "      <td>0.000</td>\n",
       "      <td>0.000</td>\n",
       "    </tr>\n",
       "    <tr>\n",
       "      <th>25%</th>\n",
       "      <td>5000.000</td>\n",
       "      <td>1.000</td>\n",
       "      <td>7896.000</td>\n",
       "      <td>0.112</td>\n",
       "      <td>0.000</td>\n",
       "    </tr>\n",
       "    <tr>\n",
       "      <th>50%</th>\n",
       "      <td>10000.000</td>\n",
       "      <td>1.000</td>\n",
       "      <td>28884.000</td>\n",
       "      <td>0.238</td>\n",
       "      <td>0.000</td>\n",
       "    </tr>\n",
       "    <tr>\n",
       "      <th>75%</th>\n",
       "      <td>20000.000</td>\n",
       "      <td>1.000</td>\n",
       "      <td>68000.000</td>\n",
       "      <td>0.466</td>\n",
       "      <td>0.000</td>\n",
       "    </tr>\n",
       "    <tr>\n",
       "      <th>max</th>\n",
       "      <td>1400000.000</td>\n",
       "      <td>62.917</td>\n",
       "      <td>13226400000.000</td>\n",
       "      <td>44088.000</td>\n",
       "      <td>1.000</td>\n",
       "    </tr>\n",
       "  </tbody>\n",
       "</table>\n",
       "</div>"
      ],
      "text/plain": [
       "       Loan Amount  Employment Length   Annual Income  Debt-To-Income Ratio  \\\n",
       "count  6402866.000        6402866.000     6402866.000           6402866.000   \n",
       "mean     13049.354              2.252      329818.153                 4.374   \n",
       "std      10256.161              2.878    15400547.126                60.749   \n",
       "min       1000.000              0.000           1.200                 0.000   \n",
       "25%       5000.000              1.000        7896.000                 0.112   \n",
       "50%      10000.000              1.000       28884.000                 0.238   \n",
       "75%      20000.000              1.000       68000.000                 0.466   \n",
       "max    1400000.000             62.917 13226400000.000             44088.000   \n",
       "\n",
       "         Decision  \n",
       "count 6402866.000  \n",
       "mean        0.150  \n",
       "std         0.357  \n",
       "min         0.000  \n",
       "25%         0.000  \n",
       "50%         0.000  \n",
       "75%         0.000  \n",
       "max         1.000  "
      ]
     },
     "execution_count": 6,
     "metadata": {},
     "output_type": "execute_result"
    }
   ],
   "source": [
    "df = df[df['Debt-To-Income Ratio'] < 100000]\n",
    "df.describe()"
   ]
  },
  {
   "cell_type": "code",
   "execution_count": 7,
   "metadata": {
    "collapsed": false
   },
   "outputs": [
    {
     "data": {
      "text/plain": [
       "<matplotlib.text.Text at 0x7ff169955f10>"
      ]
     },
     "execution_count": 7,
     "metadata": {},
     "output_type": "execute_result"
    },
    {
     "data": {
      "image/png": "[encoded data removed]",
      "text/plain": [
       "<matplotlib.figure.Figure at 0x7ff17ab90e90>"
      ]
     },
     "metadata": {},
     "output_type": "display_data"
    }
   ],
   "source": [
    "plt.scatter(df['Loan Amount'], df['Decision'])\n",
    "plt.title('Loan Amount vs. Decision')"
   ]
  },
  {
   "cell_type": "code",
   "execution_count": 8,
   "metadata": {
    "collapsed": false
   },
   "outputs": [
    {
     "data": {
      "text/plain": [
       "<matplotlib.text.Text at 0x7ff174704a10>"
      ]
     },
     "execution_count": 8,
     "metadata": {},
     "output_type": "execute_result"
    },
    {
     "data": {
      "image/png": "[encoded data removed]",
      "text/plain": [
       "<matplotlib.figure.Figure at 0x7ff1747621d0>"
      ]
     },
     "metadata": {},
     "output_type": "display_data"
    }
   ],
   "source": [
    "plt.scatter(df['Employment Length'], df['Decision'])\n",
    "plt.title('Employment Length vs. Decision')"
   ]
  },
  {
   "cell_type": "code",
   "execution_count": 9,
   "metadata": {
    "collapsed": false
   },
   "outputs": [
    {
     "data": {
      "text/plain": [
       "<matplotlib.text.Text at 0x7ff1746ebb90>"
      ]
     },
     "execution_count": 9,
     "metadata": {},
     "output_type": "execute_result"
    },
    {
     "data": {
      "image/png": "[encoded data removed]",
      "text/plain": [
       "<matplotlib.figure.Figure at 0x7ff174704bd0>"
      ]
     },
     "metadata": {},
     "output_type": "display_data"
    }
   ],
   "source": [
    "plt.scatter(df['Annual Income'], df['Decision'])\n",
    "plt.title('Annual Income vs. Decision')"
   ]
  },
  {
   "cell_type": "code",
   "execution_count": 10,
   "metadata": {
    "collapsed": false
   },
   "outputs": [
    {
     "data": {
      "text/plain": [
       "<matplotlib.text.Text at 0x7ff16e3e6c90>"
      ]
     },
     "execution_count": 10,
     "metadata": {},
     "output_type": "execute_result"
    },
    {
     "data": {
      "image/png": "[encoded data removed]",
      "text/plain": [
       "<matplotlib.figure.Figure at 0x7ff16e403490>"
      ]
     },
     "metadata": {},
     "output_type": "display_data"
    }
   ],
   "source": [
    "plt.scatter(df['Debt-To-Income Ratio'], df['Decision'])\n",
    "plt.title('Debt-To-Income Ratio vs. Decision')"
   ]
  },
  {
   "cell_type": "markdown",
   "metadata": {},
   "source": [
    "# Classification Algorithms\n"
   ]
  },
  {
   "cell_type": "code",
   "execution_count": 11,
   "metadata": {
    "collapsed": true
   },
   "outputs": [],
   "source": [
    "x = np.array(df.drop(['Decision'],1))\n",
    "y = np.array(df['Decision'])\n",
    "\n",
    "x_train, x_test, y_train, y_test = cross_validation.train_test_split(x,y,test_size=0.22)"
   ]
  },
  {
   "cell_type": "markdown",
   "metadata": {},
   "source": [
    "## Gradient Boosting"
   ]
  },
  {
   "cell_type": "code",
   "execution_count": 12,
   "metadata": {
    "collapsed": true
   },
   "outputs": [],
   "source": [
    "from sklearn import metrics"
   ]
  },
  {
   "cell_type": "markdown",
   "metadata": {},
   "source": [
    "Feature importances tell us which features bear more weight in the decision.\n",
    "\n",
    "In this case, the debt-to-income ratio is roughly a good indicator whether we should give out a loan or not. This is beneficial for us because that ratio is dimensionless, meaning, currency doesn't matter.\n",
    "\n",
    "Moreover, both employment length and the annual income play equal parts in a decision.\n",
    "\n",
    "Lastly, it seems that the loan amount is not as important in this model."
   ]
  },
  {
   "cell_type": "markdown",
   "metadata": {},
   "source": [
    "GOAL: Reduce the amount of false negatives. Better to falsely accuse a person of defaulting rather than falsely speculating that a person would pay the debt."
   ]
  },
  {
   "cell_type": "code",
   "execution_count": 13,
   "metadata": {
    "collapsed": false
   },
   "outputs": [
    {
     "name": "stdout",
     "output_type": "stream",
     "text": [
      "0.997384694785\n",
      "[ 0.09745787  0.27157932  0.26687432  0.36408849]\n"
     ]
    }
   ],
   "source": [
    "clf_gbc = ensemble.GradientBoostingClassifier().fit(x_train,y_train)\n",
    "print clf_gbc.score(x_test,y_test)\n",
    "print clf_gbc.feature_importances_"
   ]
  },
  {
   "cell_type": "code",
   "execution_count": 14,
   "metadata": {
    "collapsed": false
   },
   "outputs": [
    {
     "name": "stdout",
     "output_type": "stream",
     "text": [
      "0.997384694785\n"
     ]
    }
   ],
   "source": [
    "y_pred_gbc = clf_gbc.predict(x_test)\n",
    "print metrics.accuracy_score(y_test,y_pred_gbc)"
   ]
  },
  {
   "cell_type": "code",
   "execution_count": 15,
   "metadata": {
    "collapsed": false
   },
   "outputs": [
    {
     "name": "stdout",
     "output_type": "stream",
     "text": [
      "[[1197186     610]\n",
      " [   3074  207761]]\n"
     ]
    }
   ],
   "source": [
    "print metrics.confusion_matrix(y_test, y_pred_gbc)\n",
    "\n",
    "confusion_gbc = metrics.confusion_matrix(y_test, y_pred_gbc)\n",
    "TP_gbc = confusion_gbc[1, 1]\n",
    "TN_gbc = confusion_gbc[0, 0]\n",
    "FP_gbc = confusion_gbc[0, 1]\n",
    "FN_gbc = confusion_gbc[1, 0]"
   ]
  },
  {
   "cell_type": "code",
   "execution_count": 16,
   "metadata": {
    "collapsed": false
   },
   "outputs": [
    {
     "name": "stdout",
     "output_type": "stream",
     "text": [
      "0.997384694785\n",
      "0.997384694785\n"
     ]
    }
   ],
   "source": [
    "# CLASSIFICATION ACCURACY\n",
    "print (TP_gbc + TN_gbc) / float(TP_gbc + TN_gbc + FP_gbc + FN_gbc)\n",
    "print metrics.accuracy_score(y_test, y_pred_gbc)"
   ]
  },
  {
   "cell_type": "code",
   "execution_count": 17,
   "metadata": {
    "collapsed": false
   },
   "outputs": [
    {
     "name": "stdout",
     "output_type": "stream",
     "text": [
      "0.00261530521478\n",
      "0.00261530521478\n"
     ]
    }
   ],
   "source": [
    "# CLASSIFICATION ERROR\n",
    "print (FP_gbc + FN_gbc) / float(TP_gbc + TN_gbc + FP_gbc + FN_gbc)\n",
    "print 1 - metrics.accuracy_score(y_test, y_pred_gbc)"
   ]
  },
  {
   "cell_type": "code",
   "execution_count": 18,
   "metadata": {
    "collapsed": false
   },
   "outputs": [
    {
     "name": "stdout",
     "output_type": "stream",
     "text": [
      "0.985419878104\n",
      "0.985419878104\n"
     ]
    }
   ],
   "source": [
    "# Sensitivity: How sensitive is the model in predicting positive instances?\n",
    "\n",
    "print TP_gbc / float(TP_gbc + FN_gbc)\n",
    "print metrics.recall_score(y_test, y_pred_gbc)"
   ]
  },
  {
   "cell_type": "code",
   "execution_count": 19,
   "metadata": {
    "collapsed": false
   },
   "outputs": [
    {
     "name": "stdout",
     "output_type": "stream",
     "text": [
      "0.99949073131\n"
     ]
    }
   ],
   "source": [
    "# Specificity: When it's actually no, how often does it predict no?\n",
    "# True Negative Rate\n",
    "\n",
    "print TN_gbc / float(TN_gbc + FP_gbc)"
   ]
  },
  {
   "cell_type": "code",
   "execution_count": 20,
   "metadata": {
    "collapsed": false
   },
   "outputs": [
    {
     "name": "stdout",
     "output_type": "stream",
     "text": [
      "0.000509268690161\n"
     ]
    }
   ],
   "source": [
    "# False Positive Rate: When it's actually no, how often does it predict yes?\n",
    "\n",
    "print FP_gbc / float(TN_gbc + FP_gbc)"
   ]
  },
  {
   "cell_type": "code",
   "execution_count": 21,
   "metadata": {
    "collapsed": false
   },
   "outputs": [
    {
     "name": "stdout",
     "output_type": "stream",
     "text": [
      "0.997072529287\n",
      "0.997072529287\n"
     ]
    }
   ],
   "source": [
    "# Precision: When it predicts yes, how often is it correct?\n",
    "\n",
    "print TP_gbc / float(TP_gbc + FP_gbc)\n",
    "print metrics.precision_score(y_test, y_pred_gbc)"
   ]
  },
  {
   "cell_type": "code",
   "execution_count": 22,
   "metadata": {
    "collapsed": false
   },
   "outputs": [
    {
     "name": "stdout",
     "output_type": "stream",
     "text": [
      "0.991211957844\n"
     ]
    }
   ],
   "source": [
    "# F1 Score\n",
    "print metrics.f1_score(y_test,y_pred_gbc)"
   ]
  },
  {
   "cell_type": "markdown",
   "metadata": {},
   "source": [
    "### Probabilities"
   ]
  },
  {
   "cell_type": "code",
   "execution_count": 89,
   "metadata": {
    "collapsed": true
   },
   "outputs": [],
   "source": [
    "y_pred_prob_gbc = clf_gbc.predict_proba(x_test)"
   ]
  },
  {
   "cell_type": "code",
   "execution_count": 90,
   "metadata": {
    "collapsed": false
   },
   "outputs": [
    {
     "data": {
      "text/plain": [
       "<matplotlib.text.Text at 0x7ff168cfcc10>"
      ]
     },
     "execution_count": 90,
     "metadata": {},
     "output_type": "execute_result"
    },
    {
     "data": {
      "image/png": "[encoded data removed]",
      "text/plain": [
       "<matplotlib.figure.Figure at 0x7ff168ca5a50>"
      ]
     },
     "metadata": {},
     "output_type": "display_data"
    }
   ],
   "source": [
    "plt.hist(y_pred_prob_gbc[:,1], bins=8)\n",
    "plt.xlim(0, 1)\n",
    "plt.title('Histogram of predicted probabilities')\n",
    "plt.xlabel('Predicted probability of paying back the loan')\n",
    "plt.ylabel('Frequency')"
   ]
  },
  {
   "cell_type": "code",
   "execution_count": 91,
   "metadata": {
    "collapsed": false
   },
   "outputs": [
    {
     "data": {
      "text/plain": [
       "<matplotlib.text.Text at 0x7ff168b679d0>"
      ]
     },
     "execution_count": 91,
     "metadata": {},
     "output_type": "execute_result"
    },
    {
     "data": {
      "image/png": "[encoded data removed]",
      "text/plain": [
       "<matplotlib.figure.Figure at 0x7ff168bebb90>"
      ]
     },
     "metadata": {},
     "output_type": "display_data"
    }
   ],
   "source": [
    "plt.hist(y_pred_prob_gbc[:,0], bins=8)\n",
    "plt.xlim(0, 1)\n",
    "plt.title('Histogram of predicted probabilities')\n",
    "plt.xlabel('Predicted probability of defaulting')\n",
    "plt.ylabel('Frequency')"
   ]
  },
  {
   "cell_type": "markdown",
   "metadata": {},
   "source": [
    "### ROC and AUC"
   ]
  },
  {
   "cell_type": "code",
   "execution_count": 123,
   "metadata": {
    "collapsed": false
   },
   "outputs": [
    {
     "data": {
      "image/png": "[encoded data removed]",
      "text/plain": [
       "<matplotlib.figure.Figure at 0x7ff168fb40d0>"
      ]
     },
     "metadata": {},
     "output_type": "display_data"
    }
   ],
   "source": [
    "fpr_gbc, tpr_gbc, thresholds_gbc = metrics.roc_curve(y_test, y_pred_prob_gbc[:,1])\n",
    "plt.scatter(fpr_gbc, tpr_gbc)\n",
    "plt.title('ROC curve for Gradient Boosting Classifier for Successful Loan Payment')\n",
    "plt.xlabel('False Positive Rate (1 - Specificity)')\n",
    "plt.ylabel('True Positive Rate (Sensitivity)')\n",
    "plt.grid(True)"
   ]
  },
  {
   "cell_type": "code",
   "execution_count": 122,
   "metadata": {
    "collapsed": false
   },
   "outputs": [
    {
     "name": "stdout",
     "output_type": "stream",
     "text": [
      "0.999673438921\n"
     ]
    }
   ],
   "source": [
    "print metrics.roc_auc_score(y_test, y_pred_prob_gbc[:,1])"
   ]
  },
  {
   "cell_type": "markdown",
   "metadata": {},
   "source": [
    "## Random Forest"
   ]
  },
  {
   "cell_type": "markdown",
   "metadata": {},
   "source": [
    "For the Random Forest model, we see that much like the Gradient Boosting Model, loan amount is given less importance than the rest of the explanatory variables.\n",
    "\n",
    "Moreover, much like the Gradient Boosting model, the debt-to-income ratio bears the most importance in determining loan defaults. This is again an important conclusion because this ratio is dimensionless.\n",
    "\n",
    "In this model however, more importance is given to the employment length rather than the annual income."
   ]
  },
  {
   "cell_type": "code",
   "execution_count": 28,
   "metadata": {
    "collapsed": false
   },
   "outputs": [
    {
     "name": "stdout",
     "output_type": "stream",
     "text": [
      "0.99944840061\n",
      "[ 0.01845201  0.12237972  0.06705893  0.79210935]\n"
     ]
    }
   ],
   "source": [
    "clf_rf = ensemble.RandomForestClassifier().fit(x_train,y_train)\n",
    "print clf_rf.score(x_test,y_test)\n",
    "print clf_rf.feature_importances_"
   ]
  },
  {
   "cell_type": "code",
   "execution_count": 29,
   "metadata": {
    "collapsed": false
   },
   "outputs": [
    {
     "name": "stdout",
     "output_type": "stream",
     "text": [
      "0.99944840061\n"
     ]
    }
   ],
   "source": [
    "y_pred_rf = clf_rf.predict(x_test)\n",
    "print metrics.accuracy_score(y_test, y_pred_rf)"
   ]
  },
  {
   "cell_type": "code",
   "execution_count": 30,
   "metadata": {
    "collapsed": false
   },
   "outputs": [
    {
     "name": "stdout",
     "output_type": "stream",
     "text": [
      "[[1197512     284]\n",
      " [    493  210342]]\n"
     ]
    }
   ],
   "source": [
    "print metrics.confusion_matrix(y_test, y_pred_rf)\n",
    "\n",
    "confusion_rf = metrics.confusion_matrix(y_test, y_pred_rf)\n",
    "TP_rf = confusion_rf[1, 1]\n",
    "TN_rf = confusion_rf[0, 0]\n",
    "FP_rf = confusion_rf[0, 1]\n",
    "FN_rf = confusion_rf[1, 0]"
   ]
  },
  {
   "cell_type": "code",
   "execution_count": 31,
   "metadata": {
    "collapsed": false
   },
   "outputs": [
    {
     "name": "stdout",
     "output_type": "stream",
     "text": [
      "0.99944840061\n",
      "0.99944840061\n"
     ]
    }
   ],
   "source": [
    "# CLASSIFICATION ACCURACY\n",
    "print (TP_rf + TN_rf) / float(TP_rf + TN_rf + FP_rf + FN_rf)\n",
    "print metrics.accuracy_score(y_test, y_pred_rf)"
   ]
  },
  {
   "cell_type": "code",
   "execution_count": 32,
   "metadata": {
    "collapsed": false
   },
   "outputs": [
    {
     "name": "stdout",
     "output_type": "stream",
     "text": [
      "0.000551599389762\n",
      "0.000551599389762\n"
     ]
    }
   ],
   "source": [
    "# CLASSIFICATION ERROR\n",
    "print (FP_rf + FN_rf) / float(TP_rf + TN_rf + FP_rf + FN_rf)\n",
    "print 1 - metrics.accuracy_score(y_test, y_pred_rf)"
   ]
  },
  {
   "cell_type": "code",
   "execution_count": 33,
   "metadata": {
    "collapsed": false
   },
   "outputs": [
    {
     "name": "stdout",
     "output_type": "stream",
     "text": [
      "0.997661678564\n",
      "0.997661678564\n"
     ]
    }
   ],
   "source": [
    "# Sensitivity: How sensitive is the model in predicting positive instances?\n",
    "\n",
    "print TP_rf / float(TP_rf + FN_rf)\n",
    "print metrics.recall_score(y_test, y_pred_rf)"
   ]
  },
  {
   "cell_type": "code",
   "execution_count": 34,
   "metadata": {
    "collapsed": false
   },
   "outputs": [
    {
     "name": "stdout",
     "output_type": "stream",
     "text": [
      "0.999762897856\n"
     ]
    }
   ],
   "source": [
    "# Specificity: When it's actually no, how often does it predict no?\n",
    "# True Negative Rate\n",
    "\n",
    "print TN_rf / float(TN_rf + FP_rf)"
   ]
  },
  {
   "cell_type": "code",
   "execution_count": 35,
   "metadata": {
    "collapsed": false
   },
   "outputs": [
    {
     "name": "stdout",
     "output_type": "stream",
     "text": [
      "0.000237102144272\n"
     ]
    }
   ],
   "source": [
    "# False Positive Rate: When it's actually no, how often does it predict yes?\n",
    "\n",
    "print FP_rf / float(TN_rf + FP_rf)"
   ]
  },
  {
   "cell_type": "code",
   "execution_count": 36,
   "metadata": {
    "collapsed": false
   },
   "outputs": [
    {
     "name": "stdout",
     "output_type": "stream",
     "text": [
      "0.998651638449\n",
      "0.998651638449\n"
     ]
    }
   ],
   "source": [
    "# Precision: When it predicts yes, how often is it correct?\n",
    "\n",
    "print TP_rf / float(TP_rf + FP_rf)\n",
    "print metrics.precision_score(y_test, y_pred_rf)"
   ]
  },
  {
   "cell_type": "code",
   "execution_count": 37,
   "metadata": {
    "collapsed": false
   },
   "outputs": [
    {
     "name": "stdout",
     "output_type": "stream",
     "text": [
      "0.998156413049\n"
     ]
    }
   ],
   "source": [
    "# F1 Score\n",
    "print metrics.f1_score(y_test,y_pred_rf)"
   ]
  },
  {
   "cell_type": "markdown",
   "metadata": {},
   "source": [
    "### Probabilities"
   ]
  },
  {
   "cell_type": "code",
   "execution_count": 100,
   "metadata": {
    "collapsed": true
   },
   "outputs": [],
   "source": [
    "y_pred_prob_rf = clf_rf.predict_proba(x_test)"
   ]
  },
  {
   "cell_type": "code",
   "execution_count": 101,
   "metadata": {
    "collapsed": false
   },
   "outputs": [
    {
     "data": {
      "text/plain": [
       "<matplotlib.text.Text at 0x7ff169177910>"
      ]
     },
     "execution_count": 101,
     "metadata": {},
     "output_type": "execute_result"
    },
    {
     "data": {
      "image/png": "[encoded data removed]",
      "text/plain": [
       "<matplotlib.figure.Figure at 0x7ff1690c1ad0>"
      ]
     },
     "metadata": {},
     "output_type": "display_data"
    }
   ],
   "source": [
    "plt.hist(y_pred_prob_rf[:,1], bins=8)\n",
    "plt.xlim(0, 1)\n",
    "plt.title('Histogram of predicted probabilities')\n",
    "plt.xlabel('Predicted probability of paying back the loan')\n",
    "plt.ylabel('Frequency')"
   ]
  },
  {
   "cell_type": "code",
   "execution_count": 102,
   "metadata": {
    "collapsed": false
   },
   "outputs": [
    {
     "data": {
      "text/plain": [
       "<matplotlib.text.Text at 0x7ff169177c50>"
      ]
     },
     "execution_count": 102,
     "metadata": {},
     "output_type": "execute_result"
    },
    {
     "data": {
      "image/png": "[encoded data removed]",
      "text/plain": [
       "<matplotlib.figure.Figure at 0x7ff168a3f290>"
      ]
     },
     "metadata": {},
     "output_type": "display_data"
    }
   ],
   "source": [
    "plt.hist(y_pred_prob_rf[:,0], bins=8)\n",
    "plt.xlim(0, 1)\n",
    "plt.title('Histogram of predicted probabilities')\n",
    "plt.xlabel('Predicted probability of defaulting')\n",
    "plt.ylabel('Frequency')"
   ]
  },
  {
   "cell_type": "markdown",
   "metadata": {},
   "source": [
    "### ROC and AUC"
   ]
  },
  {
   "cell_type": "code",
   "execution_count": 119,
   "metadata": {
    "collapsed": false
   },
   "outputs": [
    {
     "data": {
      "image/png": "[encoded data removed]",
      "text/plain": [
       "<matplotlib.figure.Figure at 0x7ff1687b5f10>"
      ]
     },
     "metadata": {},
     "output_type": "display_data"
    }
   ],
   "source": [
    "fpr_rf, tpr_rf, thresholds_rf = metrics.roc_curve(y_test, y_pred_prob_rf[:,1])\n",
    "plt.scatter(fpr_rf, tpr_rf)\n",
    "plt.title('ROC curve for Random Forest Classifier for Successful Loan Payment')\n",
    "plt.xlabel('False Positive Rate (1 - Specificity)')\n",
    "plt.ylabel('True Positive Rate (Sensitivity)')\n",
    "plt.grid(True)"
   ]
  },
  {
   "cell_type": "code",
   "execution_count": 120,
   "metadata": {
    "collapsed": false
   },
   "outputs": [
    {
     "name": "stdout",
     "output_type": "stream",
     "text": [
      "0.999744442952\n"
     ]
    }
   ],
   "source": [
    "print metrics.roc_auc_score(y_test, y_pred_prob_rf[:,1])"
   ]
  },
  {
   "cell_type": "markdown",
   "metadata": {},
   "source": [
    "## AdaBoost"
   ]
  },
  {
   "cell_type": "markdown",
   "metadata": {},
   "source": [
    "The observation that the debt-to-income ratio parameter is a good indicator for loan defaults is again proven here in this model.\n",
    "\n",
    "However, in this model, we see that the employment length also plays an important role in determining loan defaults, more so than that of the annual income.\n",
    "\n",
    "Lastly, as we can see yet again, the loan amount parameter plays little role in explaining loan defaults."
   ]
  },
  {
   "cell_type": "code",
   "execution_count": 43,
   "metadata": {
    "collapsed": false
   },
   "outputs": [
    {
     "name": "stdout",
     "output_type": "stream",
     "text": [
      "0.994604690654\n",
      "[ 0.06  0.38  0.2   0.36]\n"
     ]
    }
   ],
   "source": [
    "clf_ada = ensemble.AdaBoostClassifier().fit(x_train,y_train)\n",
    "print clf_ada.score(x_test,y_test)\n",
    "print clf_ada.feature_importances_"
   ]
  },
  {
   "cell_type": "code",
   "execution_count": 44,
   "metadata": {
    "collapsed": false
   },
   "outputs": [
    {
     "name": "stdout",
     "output_type": "stream",
     "text": [
      "0.994604690654\n"
     ]
    }
   ],
   "source": [
    "y_pred_ada = clf_ada.predict(x_test)\n",
    "print metrics.accuracy_score(y_test,y_pred_ada)"
   ]
  },
  {
   "cell_type": "code",
   "execution_count": 45,
   "metadata": {
    "collapsed": false
   },
   "outputs": [
    {
     "name": "stdout",
     "output_type": "stream",
     "text": [
      "[[1194822    2974]\n",
      " [   4626  206209]]\n"
     ]
    }
   ],
   "source": [
    "print metrics.confusion_matrix(y_test, y_pred_ada)\n",
    "\n",
    "confusion_ada = metrics.confusion_matrix(y_test, y_pred_ada)\n",
    "TP_ada = confusion_ada[1, 1]\n",
    "TN_ada = confusion_ada[0, 0]\n",
    "FP_ada = confusion_ada[0, 1]\n",
    "FN_ada = confusion_ada[1, 0]"
   ]
  },
  {
   "cell_type": "code",
   "execution_count": 46,
   "metadata": {
    "collapsed": false
   },
   "outputs": [
    {
     "name": "stdout",
     "output_type": "stream",
     "text": [
      "0.994604690654\n",
      "0.994604690654\n"
     ]
    }
   ],
   "source": [
    "# CLASSIFICATION ACCURACY\n",
    "print (TP_ada + TN_ada) / float(TP_ada + TN_ada + FP_ada + FN_ada)\n",
    "print metrics.accuracy_score(y_test, y_pred_ada)"
   ]
  },
  {
   "cell_type": "code",
   "execution_count": 47,
   "metadata": {
    "collapsed": false
   },
   "outputs": [
    {
     "name": "stdout",
     "output_type": "stream",
     "text": [
      "0.00539530934645\n",
      "0.00539530934645\n"
     ]
    }
   ],
   "source": [
    "# CLASSIFICATION ERROR\n",
    "print (FP_ada + FN_ada) / float(TP_ada + TN_ada + FP_ada + FN_ada)\n",
    "print 1 - metrics.accuracy_score(y_test, y_pred_ada)"
   ]
  },
  {
   "cell_type": "code",
   "execution_count": 48,
   "metadata": {
    "collapsed": false
   },
   "outputs": [
    {
     "name": "stdout",
     "output_type": "stream",
     "text": [
      "0.978058671473\n",
      "0.978058671473\n"
     ]
    }
   ],
   "source": [
    "# Sensitivity: How sensitive is the model in predicting positive instances?\n",
    "\n",
    "print TP_ada / float(TP_ada + FN_ada)\n",
    "print metrics.recall_score(y_test, y_pred_ada)"
   ]
  },
  {
   "cell_type": "code",
   "execution_count": 49,
   "metadata": {
    "collapsed": false
   },
   "outputs": [
    {
     "name": "stdout",
     "output_type": "stream",
     "text": [
      "0.997517106419\n"
     ]
    }
   ],
   "source": [
    "# Specificity: When it's actually no, how often does it predict no?\n",
    "# True Negative Rate\n",
    "\n",
    "print TN_ada / float(TN_ada + FP_ada)"
   ]
  },
  {
   "cell_type": "code",
   "execution_count": 50,
   "metadata": {
    "collapsed": false
   },
   "outputs": [
    {
     "name": "stdout",
     "output_type": "stream",
     "text": [
      "0.00248289358121\n"
     ]
    }
   ],
   "source": [
    "# False Positive Rate: When it's actually no, how often does it predict yes?\n",
    "\n",
    "print FP_ada / float(TN_ada + FP_ada)"
   ]
  },
  {
   "cell_type": "code",
   "execution_count": 51,
   "metadata": {
    "collapsed": false
   },
   "outputs": [
    {
     "name": "stdout",
     "output_type": "stream",
     "text": [
      "0.985782783496\n",
      "0.985782783496\n"
     ]
    }
   ],
   "source": [
    "# Precision: When it predicts yes, how often is it correct?\n",
    "\n",
    "print TP_ada / float(TP_ada + FP_ada)\n",
    "print metrics.precision_score(y_test, y_pred_ada)"
   ]
  },
  {
   "cell_type": "code",
   "execution_count": 52,
   "metadata": {
    "collapsed": false
   },
   "outputs": [
    {
     "name": "stdout",
     "output_type": "stream",
     "text": [
      "0.981905537382\n"
     ]
    }
   ],
   "source": [
    "# F1 Score\n",
    "print metrics.f1_score(y_test,y_pred_ada)"
   ]
  },
  {
   "cell_type": "markdown",
   "metadata": {},
   "source": [
    "### Probabilities"
   ]
  },
  {
   "cell_type": "code",
   "execution_count": 84,
   "metadata": {
    "collapsed": true
   },
   "outputs": [],
   "source": [
    "y_pred_prob_ada = clf_rf.predict_proba(x_test)"
   ]
  },
  {
   "cell_type": "code",
   "execution_count": 85,
   "metadata": {
    "collapsed": false
   },
   "outputs": [
    {
     "data": {
      "text/plain": [
       "<matplotlib.text.Text at 0x7ff168e11fd0>"
      ]
     },
     "execution_count": 85,
     "metadata": {},
     "output_type": "execute_result"
    },
    {
     "data": {
      "image/png": "[encoded data removed]",
      "text/plain": [
       "<matplotlib.figure.Figure at 0x7ff1692a8a90>"
      ]
     },
     "metadata": {},
     "output_type": "display_data"
    }
   ],
   "source": [
    "plt.hist(y_pred_prob_ada[:,1], bins=8)\n",
    "plt.xlim(0, 1)\n",
    "plt.title('Histogram of predicted probabilities')\n",
    "plt.xlabel('Predicted probability of paying back the loan')\n",
    "plt.ylabel('Frequency')"
   ]
  },
  {
   "cell_type": "code",
   "execution_count": 86,
   "metadata": {
    "collapsed": false
   },
   "outputs": [
    {
     "data": {
      "text/plain": [
       "<matplotlib.text.Text at 0x7ff168cfce10>"
      ]
     },
     "execution_count": 86,
     "metadata": {},
     "output_type": "execute_result"
    },
    {
     "data": {
      "image/png": "[encoded data removed]",
      "text/plain": [
       "<matplotlib.figure.Figure at 0x7ff1692a8890>"
      ]
     },
     "metadata": {},
     "output_type": "display_data"
    }
   ],
   "source": [
    "plt.hist(y_pred_prob_ada[:,0], bins=8)\n",
    "plt.xlim(0, 1)\n",
    "plt.title('Histogram of predicted probabilities')\n",
    "plt.xlabel('Predicted probability of defaulting')\n",
    "plt.ylabel('Frequency')"
   ]
  },
  {
   "cell_type": "markdown",
   "metadata": {},
   "source": [
    "### ROC and AUC"
   ]
  },
  {
   "cell_type": "code",
   "execution_count": 117,
   "metadata": {
    "collapsed": false
   },
   "outputs": [
    {
     "data": {
      "image/png": "[encoded data removed]",
      "text/plain": [
       "<matplotlib.figure.Figure at 0x7ff168588c90>"
      ]
     },
     "metadata": {},
     "output_type": "display_data"
    }
   ],
   "source": [
    "fpr_ada, tpr_ada, thresholds_ada = metrics.roc_curve(y_test, y_pred_prob_ada[:,1])\n",
    "plt.scatter(fpr_ada, tpr_ada)\n",
    "plt.title('ROC curve for Random Forest Classifier for Successful Loan Payment')\n",
    "plt.xlabel('False Positive Rate (1 - Specificity)')\n",
    "plt.ylabel('True Positive Rate (Sensitivity)')\n",
    "plt.grid(True)"
   ]
  },
  {
   "cell_type": "code",
   "execution_count": 118,
   "metadata": {
    "collapsed": false
   },
   "outputs": [
    {
     "name": "stdout",
     "output_type": "stream",
     "text": [
      "0.999744442952\n"
     ]
    }
   ],
   "source": [
    "print metrics.roc_auc_score(y_test, y_pred_prob_ada[:,1])"
   ]
  },
  {
   "cell_type": "markdown",
   "metadata": {},
   "source": [
    "# Exporting Models"
   ]
  },
  {
   "cell_type": "code",
   "execution_count": 61,
   "metadata": {
    "collapsed": false
   },
   "outputs": [
    {
     "data": {
      "text/plain": [
       "['AdaBoost Model for Credit Default.cls',\n",
       " 'AdaBoost Model for Credit Default.cls_01.npy',\n",
       " 'AdaBoost Model for Credit Default.cls_02.npy',\n",
       " 'AdaBoost Model for Credit Default.cls_03.npy',\n",
       " 'AdaBoost Model for Credit Default.cls_04.npy',\n",
       " 'AdaBoost Model for Credit Default.cls_05.npy',\n",
       " 'AdaBoost Model for Credit Default.cls_06.npy',\n",
       " 'AdaBoost Model for Credit Default.cls_07.npy',\n",
       " 'AdaBoost Model for Credit Default.cls_08.npy',\n",
       " 'AdaBoost Model for Credit Default.cls_09.npy',\n",
       " 'AdaBoost Model for Credit Default.cls_10.npy',\n",
       " 'AdaBoost Model for Credit Default.cls_11.npy',\n",
       " 'AdaBoost Model for Credit Default.cls_12.npy',\n",
       " 'AdaBoost Model for Credit Default.cls_13.npy',\n",
       " 'AdaBoost Model for Credit Default.cls_14.npy',\n",
       " 'AdaBoost Model for Credit Default.cls_15.npy',\n",
       " 'AdaBoost Model for Credit Default.cls_16.npy',\n",
       " 'AdaBoost Model for Credit Default.cls_17.npy',\n",
       " 'AdaBoost Model for Credit Default.cls_18.npy',\n",
       " 'AdaBoost Model for Credit Default.cls_19.npy',\n",
       " 'AdaBoost Model for Credit Default.cls_20.npy',\n",
       " 'AdaBoost Model for Credit Default.cls_21.npy',\n",
       " 'AdaBoost Model for Credit Default.cls_22.npy',\n",
       " 'AdaBoost Model for Credit Default.cls_23.npy',\n",
       " 'AdaBoost Model for Credit Default.cls_24.npy',\n",
       " 'AdaBoost Model for Credit Default.cls_25.npy',\n",
       " 'AdaBoost Model for Credit Default.cls_26.npy',\n",
       " 'AdaBoost Model for Credit Default.cls_27.npy',\n",
       " 'AdaBoost Model for Credit Default.cls_28.npy',\n",
       " 'AdaBoost Model for Credit Default.cls_29.npy',\n",
       " 'AdaBoost Model for Credit Default.cls_30.npy',\n",
       " 'AdaBoost Model for Credit Default.cls_31.npy',\n",
       " 'AdaBoost Model for Credit Default.cls_32.npy',\n",
       " 'AdaBoost Model for Credit Default.cls_33.npy',\n",
       " 'AdaBoost Model for Credit Default.cls_34.npy',\n",
       " 'AdaBoost Model for Credit Default.cls_35.npy',\n",
       " 'AdaBoost Model for Credit Default.cls_36.npy',\n",
       " 'AdaBoost Model for Credit Default.cls_37.npy',\n",
       " 'AdaBoost Model for Credit Default.cls_38.npy',\n",
       " 'AdaBoost Model for Credit Default.cls_39.npy',\n",
       " 'AdaBoost Model for Credit Default.cls_40.npy',\n",
       " 'AdaBoost Model for Credit Default.cls_41.npy',\n",
       " 'AdaBoost Model for Credit Default.cls_42.npy',\n",
       " 'AdaBoost Model for Credit Default.cls_43.npy',\n",
       " 'AdaBoost Model for Credit Default.cls_44.npy',\n",
       " 'AdaBoost Model for Credit Default.cls_45.npy',\n",
       " 'AdaBoost Model for Credit Default.cls_46.npy',\n",
       " 'AdaBoost Model for Credit Default.cls_47.npy',\n",
       " 'AdaBoost Model for Credit Default.cls_48.npy',\n",
       " 'AdaBoost Model for Credit Default.cls_49.npy',\n",
       " 'AdaBoost Model for Credit Default.cls_50.npy',\n",
       " 'AdaBoost Model for Credit Default.cls_51.npy',\n",
       " 'AdaBoost Model for Credit Default.cls_52.npy',\n",
       " 'AdaBoost Model for Credit Default.cls_53.npy',\n",
       " 'AdaBoost Model for Credit Default.cls_54.npy',\n",
       " 'AdaBoost Model for Credit Default.cls_55.npy',\n",
       " 'AdaBoost Model for Credit Default.cls_56.npy',\n",
       " 'AdaBoost Model for Credit Default.cls_57.npy',\n",
       " 'AdaBoost Model for Credit Default.cls_58.npy',\n",
       " 'AdaBoost Model for Credit Default.cls_59.npy',\n",
       " 'AdaBoost Model for Credit Default.cls_60.npy',\n",
       " 'AdaBoost Model for Credit Default.cls_61.npy',\n",
       " 'AdaBoost Model for Credit Default.cls_62.npy',\n",
       " 'AdaBoost Model for Credit Default.cls_63.npy',\n",
       " 'AdaBoost Model for Credit Default.cls_64.npy',\n",
       " 'AdaBoost Model for Credit Default.cls_65.npy',\n",
       " 'AdaBoost Model for Credit Default.cls_66.npy',\n",
       " 'AdaBoost Model for Credit Default.cls_67.npy',\n",
       " 'AdaBoost Model for Credit Default.cls_68.npy',\n",
       " 'AdaBoost Model for Credit Default.cls_69.npy',\n",
       " 'AdaBoost Model for Credit Default.cls_70.npy',\n",
       " 'AdaBoost Model for Credit Default.cls_71.npy',\n",
       " 'AdaBoost Model for Credit Default.cls_72.npy',\n",
       " 'AdaBoost Model for Credit Default.cls_73.npy',\n",
       " 'AdaBoost Model for Credit Default.cls_74.npy',\n",
       " 'AdaBoost Model for Credit Default.cls_75.npy',\n",
       " 'AdaBoost Model for Credit Default.cls_76.npy',\n",
       " 'AdaBoost Model for Credit Default.cls_77.npy',\n",
       " 'AdaBoost Model for Credit Default.cls_78.npy',\n",
       " 'AdaBoost Model for Credit Default.cls_79.npy',\n",
       " 'AdaBoost Model for Credit Default.cls_80.npy',\n",
       " 'AdaBoost Model for Credit Default.cls_81.npy',\n",
       " 'AdaBoost Model for Credit Default.cls_82.npy',\n",
       " 'AdaBoost Model for Credit Default.cls_83.npy',\n",
       " 'AdaBoost Model for Credit Default.cls_84.npy',\n",
       " 'AdaBoost Model for Credit Default.cls_85.npy',\n",
       " 'AdaBoost Model for Credit Default.cls_86.npy',\n",
       " 'AdaBoost Model for Credit Default.cls_87.npy',\n",
       " 'AdaBoost Model for Credit Default.cls_88.npy',\n",
       " 'AdaBoost Model for Credit Default.cls_89.npy',\n",
       " 'AdaBoost Model for Credit Default.cls_90.npy',\n",
       " 'AdaBoost Model for Credit Default.cls_91.npy',\n",
       " 'AdaBoost Model for Credit Default.cls_92.npy',\n",
       " 'AdaBoost Model for Credit Default.cls_93.npy',\n",
       " 'AdaBoost Model for Credit Default.cls_94.npy',\n",
       " 'AdaBoost Model for Credit Default.cls_95.npy',\n",
       " 'AdaBoost Model for Credit Default.cls_96.npy',\n",
       " 'AdaBoost Model for Credit Default.cls_97.npy',\n",
       " 'AdaBoost Model for Credit Default.cls_98.npy',\n",
       " 'AdaBoost Model for Credit Default.cls_99.npy',\n",
       " 'AdaBoost Model for Credit Default.cls_100.npy',\n",
       " 'AdaBoost Model for Credit Default.cls_101.npy',\n",
       " 'AdaBoost Model for Credit Default.cls_102.npy',\n",
       " 'AdaBoost Model for Credit Default.cls_103.npy',\n",
       " 'AdaBoost Model for Credit Default.cls_104.npy',\n",
       " 'AdaBoost Model for Credit Default.cls_105.npy',\n",
       " 'AdaBoost Model for Credit Default.cls_106.npy',\n",
       " 'AdaBoost Model for Credit Default.cls_107.npy',\n",
       " 'AdaBoost Model for Credit Default.cls_108.npy',\n",
       " 'AdaBoost Model for Credit Default.cls_109.npy',\n",
       " 'AdaBoost Model for Credit Default.cls_110.npy',\n",
       " 'AdaBoost Model for Credit Default.cls_111.npy',\n",
       " 'AdaBoost Model for Credit Default.cls_112.npy',\n",
       " 'AdaBoost Model for Credit Default.cls_113.npy',\n",
       " 'AdaBoost Model for Credit Default.cls_114.npy',\n",
       " 'AdaBoost Model for Credit Default.cls_115.npy',\n",
       " 'AdaBoost Model for Credit Default.cls_116.npy',\n",
       " 'AdaBoost Model for Credit Default.cls_117.npy',\n",
       " 'AdaBoost Model for Credit Default.cls_118.npy',\n",
       " 'AdaBoost Model for Credit Default.cls_119.npy',\n",
       " 'AdaBoost Model for Credit Default.cls_120.npy',\n",
       " 'AdaBoost Model for Credit Default.cls_121.npy',\n",
       " 'AdaBoost Model for Credit Default.cls_122.npy',\n",
       " 'AdaBoost Model for Credit Default.cls_123.npy',\n",
       " 'AdaBoost Model for Credit Default.cls_124.npy',\n",
       " 'AdaBoost Model for Credit Default.cls_125.npy',\n",
       " 'AdaBoost Model for Credit Default.cls_126.npy',\n",
       " 'AdaBoost Model for Credit Default.cls_127.npy',\n",
       " 'AdaBoost Model for Credit Default.cls_128.npy',\n",
       " 'AdaBoost Model for Credit Default.cls_129.npy',\n",
       " 'AdaBoost Model for Credit Default.cls_130.npy',\n",
       " 'AdaBoost Model for Credit Default.cls_131.npy',\n",
       " 'AdaBoost Model for Credit Default.cls_132.npy',\n",
       " 'AdaBoost Model for Credit Default.cls_133.npy',\n",
       " 'AdaBoost Model for Credit Default.cls_134.npy',\n",
       " 'AdaBoost Model for Credit Default.cls_135.npy',\n",
       " 'AdaBoost Model for Credit Default.cls_136.npy',\n",
       " 'AdaBoost Model for Credit Default.cls_137.npy',\n",
       " 'AdaBoost Model for Credit Default.cls_138.npy',\n",
       " 'AdaBoost Model for Credit Default.cls_139.npy',\n",
       " 'AdaBoost Model for Credit Default.cls_140.npy',\n",
       " 'AdaBoost Model for Credit Default.cls_141.npy',\n",
       " 'AdaBoost Model for Credit Default.cls_142.npy',\n",
       " 'AdaBoost Model for Credit Default.cls_143.npy',\n",
       " 'AdaBoost Model for Credit Default.cls_144.npy',\n",
       " 'AdaBoost Model for Credit Default.cls_145.npy',\n",
       " 'AdaBoost Model for Credit Default.cls_146.npy',\n",
       " 'AdaBoost Model for Credit Default.cls_147.npy',\n",
       " 'AdaBoost Model for Credit Default.cls_148.npy',\n",
       " 'AdaBoost Model for Credit Default.cls_149.npy',\n",
       " 'AdaBoost Model for Credit Default.cls_150.npy',\n",
       " 'AdaBoost Model for Credit Default.cls_151.npy',\n",
       " 'AdaBoost Model for Credit Default.cls_152.npy',\n",
       " 'AdaBoost Model for Credit Default.cls_153.npy',\n",
       " 'AdaBoost Model for Credit Default.cls_154.npy',\n",
       " 'AdaBoost Model for Credit Default.cls_155.npy',\n",
       " 'AdaBoost Model for Credit Default.cls_156.npy',\n",
       " 'AdaBoost Model for Credit Default.cls_157.npy',\n",
       " 'AdaBoost Model for Credit Default.cls_158.npy',\n",
       " 'AdaBoost Model for Credit Default.cls_159.npy',\n",
       " 'AdaBoost Model for Credit Default.cls_160.npy',\n",
       " 'AdaBoost Model for Credit Default.cls_161.npy',\n",
       " 'AdaBoost Model for Credit Default.cls_162.npy',\n",
       " 'AdaBoost Model for Credit Default.cls_163.npy',\n",
       " 'AdaBoost Model for Credit Default.cls_164.npy',\n",
       " 'AdaBoost Model for Credit Default.cls_165.npy',\n",
       " 'AdaBoost Model for Credit Default.cls_166.npy',\n",
       " 'AdaBoost Model for Credit Default.cls_167.npy',\n",
       " 'AdaBoost Model for Credit Default.cls_168.npy',\n",
       " 'AdaBoost Model for Credit Default.cls_169.npy',\n",
       " 'AdaBoost Model for Credit Default.cls_170.npy',\n",
       " 'AdaBoost Model for Credit Default.cls_171.npy',\n",
       " 'AdaBoost Model for Credit Default.cls_172.npy',\n",
       " 'AdaBoost Model for Credit Default.cls_173.npy',\n",
       " 'AdaBoost Model for Credit Default.cls_174.npy',\n",
       " 'AdaBoost Model for Credit Default.cls_175.npy',\n",
       " 'AdaBoost Model for Credit Default.cls_176.npy',\n",
       " 'AdaBoost Model for Credit Default.cls_177.npy',\n",
       " 'AdaBoost Model for Credit Default.cls_178.npy',\n",
       " 'AdaBoost Model for Credit Default.cls_179.npy',\n",
       " 'AdaBoost Model for Credit Default.cls_180.npy',\n",
       " 'AdaBoost Model for Credit Default.cls_181.npy',\n",
       " 'AdaBoost Model for Credit Default.cls_182.npy',\n",
       " 'AdaBoost Model for Credit Default.cls_183.npy',\n",
       " 'AdaBoost Model for Credit Default.cls_184.npy',\n",
       " 'AdaBoost Model for Credit Default.cls_185.npy',\n",
       " 'AdaBoost Model for Credit Default.cls_186.npy',\n",
       " 'AdaBoost Model for Credit Default.cls_187.npy',\n",
       " 'AdaBoost Model for Credit Default.cls_188.npy',\n",
       " 'AdaBoost Model for Credit Default.cls_189.npy',\n",
       " 'AdaBoost Model for Credit Default.cls_190.npy',\n",
       " 'AdaBoost Model for Credit Default.cls_191.npy',\n",
       " 'AdaBoost Model for Credit Default.cls_192.npy',\n",
       " 'AdaBoost Model for Credit Default.cls_193.npy',\n",
       " 'AdaBoost Model for Credit Default.cls_194.npy',\n",
       " 'AdaBoost Model for Credit Default.cls_195.npy',\n",
       " 'AdaBoost Model for Credit Default.cls_196.npy',\n",
       " 'AdaBoost Model for Credit Default.cls_197.npy',\n",
       " 'AdaBoost Model for Credit Default.cls_198.npy',\n",
       " 'AdaBoost Model for Credit Default.cls_199.npy',\n",
       " 'AdaBoost Model for Credit Default.cls_200.npy',\n",
       " 'AdaBoost Model for Credit Default.cls_201.npy',\n",
       " 'AdaBoost Model for Credit Default.cls_202.npy',\n",
       " 'AdaBoost Model for Credit Default.cls_203.npy']"
      ]
     },
     "execution_count": 61,
     "metadata": {},
     "output_type": "execute_result"
    }
   ],
   "source": [
    "from sklearn.externals import joblib\n",
    "\n",
    "joblib.dump(clf_gbc, 'Gradient Boosting Model/Gradient Boost Model for Credit Default.cls')\n",
    "joblib.dump(clf_rf, 'Random Forest Model/Random Forest Model for Credit Default.cls')\n",
    "joblib.dump(clf_ada, 'AdaBoost Model/AdaBoost Model for Credit Default.cls')"
   ]
  },
  {
   "cell_type": "code",
   "execution_count": null,
   "metadata": {
    "collapsed": true
   },
   "outputs": [],
   "source": []
  }
 ],
 "metadata": {
  "kernelspec": {
   "display_name": "Python [Root]",
   "language": "python",
   "name": "Python [Root]"
  },
  "language_info": {
   "codemirror_mode": {
    "name": "ipython",
    "version": 2
   },
   "file_extension": ".py",
   "mimetype": "text/x-python",
   "name": "python",
   "nbconvert_exporter": "python",
   "pygments_lexer": "ipython2",
   "version": "2.7.11"
  }
 },
 "nbformat": 4,
 "nbformat_minor": 0
}
